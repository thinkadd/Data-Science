{
 "metadata": {
  "name": "",
  "signature": "sha256:91e5edd790cbefd19250365482f2cee96023c64c4b713b47ae6f25a137b50f99"
 },
 "nbformat": 3,
 "nbformat_minor": 0,
 "worksheets": [
  {
   "cells": [
    {
     "cell_type": "markdown",
     "metadata": {},
     "source": [
      "#CSE 591 Homework1\n",
      "\n",
      "Xiufeng Yang\n",
      "107992992\n"
     ]
    },
    {
     "cell_type": "code",
     "collapsed": false,
     "input": [
      "%install_ext http://raw.github.com/jrjohansson/version_information/master/version_information.py"
     ],
     "language": "python",
     "metadata": {},
     "outputs": [
      {
       "output_type": "stream",
       "stream": "stdout",
       "text": [
        "Installed version_information.py. To use it, type:\n",
        "  %load_ext version_information\n"
       ]
      }
     ],
     "prompt_number": 2
    },
    {
     "cell_type": "code",
     "collapsed": false,
     "input": [
      "%load_ext version_information\n",
      "%version_information numpy, scipy, matplotlib, sympy, scikit_learn, nltk, pandas"
     ],
     "language": "python",
     "metadata": {},
     "outputs": [
      {
       "html": [
        "<table><tr><th>Software</th><th>Version</th></tr><tr><td>Python</td><td>2.7.6 (default, Mar 22 2014, 22:59:56) [GCC 4.8.2]</td></tr><tr><td>IPython</td><td>2.2.0</td></tr><tr><td>OS</td><td>posix [linux2]</td></tr><tr><td>numpy</td><td>1.8.1</td></tr><tr><td>scipy</td><td>0.13.3</td></tr><tr><td>matplotlib</td><td>1.3.1</td></tr><tr><td>sympy</td><td>0.7.4.1</td></tr><tr><td>scikit_learn</td><td>0.14.1</td></tr><tr><td>nltk</td><td>2.0b9</td></tr><tr><td>pandas</td><td>0.13.1</td></tr><tr><td colspan='2'>Mon Sep 15 00:23:10 2014 EDT</td></tr></table>"
       ],
       "json": [
        "{\"Software versions\": [{\"version\": \"2.7.6 (default, Mar 22 2014, 22:59:56) [GCC 4.8.2]\", \"module\": \"Python\"}, {\"version\": \"2.2.0\", \"module\": \"IPython\"}, {\"version\": \"posix [linux2]\", \"module\": \"OS\"}, {\"version\": \"1.8.1\", \"module\": \"numpy\"}, {\"version\": \"0.13.3\", \"module\": \"scipy\"}, {\"version\": \"1.3.1\", \"module\": \"matplotlib\"}, {\"version\": \"0.7.4.1\", \"module\": \"sympy\"}, {\"version\": \"0.14.1\", \"module\": \"scikit_learn\"}, {\"version\": \"2.0b9\", \"module\": \"nltk\"}, {\"version\": \"0.13.1\", \"module\": \"pandas\"}]}"
       ],
       "latex": [
        "\\begin{tabular}{|l|l|}\\hline\n",
        "{\\bf Software} & {\\bf Version} \\\\ \\hline\\hline\n",
        "Python & 2.7.6 (default, Mar 22 2014, 22:59:56) [GCC 4.8.2] \\\\ \\hline\n",
        "IPython & 2.2.0 \\\\ \\hline\n",
        "OS & posix [linux2] \\\\ \\hline\n",
        "numpy & 1.8.1 \\\\ \\hline\n",
        "scipy & 0.13.3 \\\\ \\hline\n",
        "matplotlib & 1.3.1 \\\\ \\hline\n",
        "sympy & 0.7.4.1 \\\\ \\hline\n",
        "scikit_learn & 0.14.1 \\\\ \\hline\n",
        "nltk & 2.0b9 \\\\ \\hline\n",
        "pandas & 0.13.1 \\\\ \\hline\n",
        "\\hline \\multicolumn{2}{|l|}{Mon Sep 15 00:23:10 2014 EDT} \\\\ \\hline\n",
        "\\end{tabular}\n"
       ],
       "metadata": {},
       "output_type": "pyout",
       "prompt_number": 3,
       "text": [
        "Software versions\n",
        "Python 2.7.6 (default, Mar 22 2014, 22:59:56) [GCC 4.8.2]\n",
        "IPython 2.2.0\n",
        "OS posix [linux2]\n",
        "numpy 1.8.1\n",
        "scipy 0.13.3\n",
        "matplotlib 1.3.1\n",
        "sympy 0.7.4.1\n",
        "scikit_learn 0.14.1\n",
        "nltk 2.0b9\n",
        "pandas 0.13.1\n",
        "<tr><td colspan='2'>Mon Sep 15 00:23:10 2014 EDT</td></tr>"
       ]
      }
     ],
     "prompt_number": 3
    },
    {
     "cell_type": "markdown",
     "metadata": {},
     "source": [
      "##(1) Plots"
     ]
    },
    {
     "cell_type": "code",
     "collapsed": false,
     "input": [
      "import numpy as np\n",
      "import pandas\n",
      "from __future__ import print_function"
     ],
     "language": "python",
     "metadata": {},
     "outputs": [],
     "prompt_number": 2
    },
    {
     "cell_type": "code",
     "collapsed": false,
     "input": [
      "np_array = pandas.io.parsers.read_csv(\"country-data-linux.csv\").as_matrix()"
     ],
     "language": "python",
     "metadata": {},
     "outputs": [],
     "prompt_number": 77
    },
    {
     "cell_type": "code",
     "collapsed": false,
     "input": [
      "print(np_array)"
     ],
     "language": "python",
     "metadata": {},
     "outputs": [
      {
       "output_type": "stream",
       "stream": "stdout",
       "text": [
        "[['Afghanistan' 'AF' 'Islamic republic' ..., '7512000' '1000000' '15']\n",
        " ['Albania' 'AL' 'parliamentary democracy' ..., '1098000' '1300000' '9.52']\n",
        " ['Algeria' 'DZ' 'republic' ..., '11150000' '4700000' '8']\n",
        " ..., \n",
        " ['Yemen' 'YE' 'republic' ..., '7100000' '2349000' '22']\n",
        " ['Zambia' 'ZM' 'republic' ..., '6275000' '816200' '10.4']\n",
        " ['Zimbabwe' 'ZW' 'parliamentary democracy' ..., '3939000' '1423000' '28']]\n"
       ]
      }
     ],
     "prompt_number": 9
    },
    {
     "cell_type": "code",
     "collapsed": false,
     "input": [],
     "language": "python",
     "metadata": {},
     "outputs": [],
     "prompt_number": 9
    },
    {
     "cell_type": "code",
     "collapsed": false,
     "input": [
      "%matplotlib inline\n",
      "import matplotlib.pyplot as plt"
     ],
     "language": "python",
     "metadata": {},
     "outputs": [],
     "prompt_number": 10
    },
    {
     "cell_type": "code",
     "collapsed": false,
     "input": [
      "fig, ax = plt.subplots()\n",
      "\n",
      "ax.scatter(np_array[:,10], np_array[:,7])\n",
      "ax.set_title(\"Population vs. Area\")"
     ],
     "language": "python",
     "metadata": {},
     "outputs": [
      {
       "metadata": {},
       "output_type": "pyout",
       "prompt_number": 11,
       "text": [
        "<matplotlib.text.Text at 0x7f6420cc0650>"
       ]
      },
      {
       "metadata": {},
       "output_type": "display_data",
       "png": "[encoded data removed]",
       "text": [
        "<matplotlib.figure.Figure at 0x7f6421048410>"
       ]
      }
     ],
     "prompt_number": 11
    },
    {
     "cell_type": "markdown",
     "metadata": {},
     "source": [
      "###Conclusion\n",
      "The x-axis is area, y-axis is population, most countries stays in a relatively compact area, while only a few stand out. Specifically, two countries have very large population compared with their areas, and 5 countries have very low populations compared with their area."
     ]
    },
    {
     "cell_type": "code",
     "collapsed": false,
     "input": [
      "print(np_array[80,2])"
     ],
     "language": "python",
     "metadata": {},
     "outputs": [
      {
       "output_type": "stream",
       "stream": "stdout",
       "text": [
        "republic; parliamentary democracy\n"
       ]
      }
     ],
     "prompt_number": 12
    },
    {
     "cell_type": "code",
     "collapsed": false,
     "input": [
      "for x in np.nditer(np_array[:,2], op_flags=['readwrite'], flags=['refs_ok']):\n",
      "    #print(type(x))\n",
      "    if x==\"Islamic republic\":\n",
      "        x[...]=1\n",
      "    elif x==\"parliamentary democracy\":\n",
      "        x[...]=2\n",
      "    elif x=='republic':\n",
      "        x[...]=3\n",
      "    elif x=='constitutional monarchy':\n",
      "        x[...]=4\n",
      "    elif x=='federal parliamentary democracy':\n",
      "        x[...]=5\n",
      "    elif x=='federal republic':\n",
      "        x[...]=6\n",
      "    elif x=='constitutional parliamentary democracy':\n",
      "        x[...]=7\n",
      "    elif x=='parliamentary republic':\n",
      "        x[...]=8\n",
      "    elif x=='constitutional government':\n",
      "        x[...]=9\n",
      "    elif x=='constitutional republic':\n",
      "        x[...]=10\n",
      "    elif x=='monarchy':\n",
      "        x[...]=11\n",
      "    elif x=='democratic republic':\n",
      "        x[...]=12\n",
      "    elif x=='Communist state':\n",
      "        x[...]=13\n",
      "    elif x=='federation':\n",
      "        x[...]=14\n",
      "    else:\n",
      "        x[...]=15"
     ],
     "language": "python",
     "metadata": {},
     "outputs": [],
     "prompt_number": 13
    },
    {
     "cell_type": "code",
     "collapsed": false,
     "input": [
      "print(np_array[:,2])"
     ],
     "language": "python",
     "metadata": {},
     "outputs": [
      {
       "output_type": "stream",
       "stream": "stdout",
       "text": [
        "[1 2 3 2 3 4 3 3 5 6 3 7 4 2 2 3 15 2 3 4 3 15 8 6 15 2 8 3 3 15 3 15 3 3 3\n",
        " 13 3 3 3 3 12 3 2 13 15 2 4 3 2 12 3 3 3 3 15 8 6 3 3 3 3 3 3 6 15 8 15 2\n",
        " 15 3 3 3 3 15 2 10 6 3 15 2 15 2 3 7 15 4 15 3 3 15 3 3 15 3 13 2 3 15 3\n",
        " 15 15 2 4 2 3 15 15 3 3 3 9 15 2 6 9 3 4 15 3 4 3 15 3 3 15 4 15 3 3 6 4\n",
        " 11 6 9 15 7 10 10 3 3 15 15 3 14 3 2 2 15 2 3 3 11 3 3 3 15 8 2 8 2 15 3 3\n",
        " 15 3 15 15 11 4 15 15 15 3 3 4 3 15 4 2 3 15 15 2 3 3 15 4 15 10 3 8 6 13\n",
        " 15 3 3 2]\n"
       ]
      }
     ],
     "prompt_number": 14
    },
    {
     "cell_type": "code",
     "collapsed": false,
     "input": [
      "fig, ax1 = plt.subplots()\n",
      "ax1.hist(np_array[:,2], bins=15)\n",
      "ax1.set_title(\"Government types\")\n",
      "ax1.set_xlim(min(np_array[:,2]), max(np_array[:,2]))"
     ],
     "language": "python",
     "metadata": {},
     "outputs": [
      {
       "metadata": {},
       "output_type": "pyout",
       "prompt_number": 15,
       "text": [
        "(1, 15)"
       ]
      },
      {
       "metadata": {},
       "output_type": "display_data",
       "png": "[encoded data removed]",
       "text": [
        "<matplotlib.figure.Figure at 0x7f6420d49f90>"
       ]
      }
     ],
     "prompt_number": 15
    },
    {
     "cell_type": "markdown",
     "metadata": {},
     "source": [
      "###Conclusion\n",
      "For plot legend, please refer to above python code. From this plot, we can see that most countries uses government type is republic, and then parliamentary democracy"
     ]
    },
    {
     "cell_type": "code",
     "collapsed": false,
     "input": [
      "totalLaborforce = 0\n",
      "countriesCounted = 0;\n",
      "for x in np.nditer(np_array[:,18], op_flags=['readwrite'], flags=['refs_ok']):\n",
      "    try:\n",
      "        if int(str(x)) > 0:\n",
      "            totalLaborforce+=int(str(x))\n",
      "            countriesCounted=countriesCounted+1\n",
      "    except ValueError:\n",
      "        x[...]=-1\n",
      "        \n",
      "    #print(x)\n",
      "    \n",
      "mean = totalLaborforce//countriesCounted\n",
      "#print(mean)\n",
      "\n",
      "for x in np.nditer(np_array[:,18], op_flags=['readwrite'], flags=['refs_ok']):\n",
      "    if int(str(x)) == -1:\n",
      "        x[...] = mean\n",
      "        \n"
     ],
     "language": "python",
     "metadata": {},
     "outputs": [],
     "prompt_number": 16
    },
    {
     "cell_type": "code",
     "collapsed": false,
     "input": [
      "fig, ax2 = plt.subplots()\n",
      "\n",
      "ax2.scatter(np_array[:,7], np_array[:,18])\n",
      "ax2.set_title(\"Labor Force vs. Population\")"
     ],
     "language": "python",
     "metadata": {},
     "outputs": [
      {
       "metadata": {},
       "output_type": "pyout",
       "prompt_number": 17,
       "text": [
        "<matplotlib.text.Text at 0x7f6420b049d0>"
       ]
      },
      {
       "metadata": {},
       "output_type": "display_data",
       "png": "[encoded data removed]",
       "text": [
        "<matplotlib.figure.Figure at 0x7f6420ce3490>"
       ]
      }
     ],
     "prompt_number": 17
    },
    {
     "cell_type": "markdown",
     "metadata": {},
     "source": [
      "###Conclusion\n",
      "In this plot, we can see that the labor forces of each countries have an almost linear relationship with population. The two dots that are standing out are calculated by the values got from Mean value imputation. This implies that mean value imputation is not appropriate in this situation. Based on the pattern of other countries, imputation by interpolation is a much better way to fill in the missing values in this kind of scenario."
     ]
    },
    {
     "cell_type": "code",
     "collapsed": false,
     "input": [
      "fig, ax3 = plt.subplots()\n",
      "ax3.hist(np_array[:,8], bins=8)\n",
      "ax3.set_title(\"Life Expectancy\")\n",
      "ax3.set_xlim(min(np_array[:,8]), max(np_array[:,8]))"
     ],
     "language": "python",
     "metadata": {},
     "outputs": [
      {
       "metadata": {},
       "output_type": "pyout",
       "prompt_number": 18,
       "text": [
        "(49.44, 89.57)"
       ]
      },
      {
       "metadata": {},
       "output_type": "display_data",
       "png": "[encoded data removed]",
       "text": [
        "<matplotlib.figure.Figure at 0x7f642d1d3d90>"
       ]
      }
     ],
     "prompt_number": 18
    },
    {
     "cell_type": "markdown",
     "metadata": {},
     "source": [
      "In this plot we can see the distribution of life expectancy of all countries. The most countries has life expectancy of 75-80, following by 70-75. Very few countries has life expectancy of 85-90. No countries have it over 90 yet.\n",
      "\n",
      "##(2) Pairwise correlation"
     ]
    },
    {
     "cell_type": "code",
     "collapsed": false,
     "input": [
      "pd_array = pandas.io.parsers.read_csv(\"country-data-linux.csv\")\n",
      "#print(pd_array)\n",
      "corr=pd_array.corr()\n",
      "plt.imshow(corr, cmap='hot', interpolation='none')\n",
      "plt.colorbar()\n",
      "plt.xticks(range(len(corr)), corr.columns)\n",
      "plt.yticks(range(len(corr)), corr.columns)\n",
      "#fig.set_size_inches(28.5,20.5)"
     ],
     "language": "python",
     "metadata": {},
     "outputs": [
      {
       "metadata": {},
       "output_type": "pyout",
       "prompt_number": 3,
       "text": [
        "([<matplotlib.axis.YTick at 0x7f99f00d1790>,\n",
        "  <matplotlib.axis.YTick at 0x7f99f00d1210>,\n",
        "  <matplotlib.axis.YTick at 0x7f99eaed6590>,\n",
        "  <matplotlib.axis.YTick at 0x7f99eaed6a90>,\n",
        "  <matplotlib.axis.YTick at 0x7f99eaedd0d0>,\n",
        "  <matplotlib.axis.YTick at 0x7f99eaedd810>],\n",
        " <a list of 6 Text yticklabel objects>)"
       ]
      },
      {
       "metadata": {},
       "output_type": "display_data",
       "png": "[encoded data removed]",
       "text": [
        "<matplotlib.figure.Figure at 0x7f9a0d910710>"
       ]
      }
     ],
     "prompt_number": 3
    },
    {
     "cell_type": "code",
     "collapsed": false,
     "input": [],
     "language": "python",
     "metadata": {},
     "outputs": [],
     "prompt_number": 3
    },
    {
     "cell_type": "markdown",
     "metadata": {},
     "source": [
      "##(3) Linear regression of GDP per capita"
     ]
    },
    {
     "cell_type": "markdown",
     "metadata": {},
     "source": []
    },
    {
     "cell_type": "markdown",
     "metadata": {},
     "source": [
      "I think the factor that will most likely have a linear relationship with GDP per capita is the ratios of (internet users / population). Because modern technologies like the Internet has a big impact on the economy of a country, and the development of economy will also have impact on the development of the Internet.\n",
      "\n",
      "Because GDP per capita is GDP / population, and internet user rate is internet users / population, so the problem can be simplified by compare GDP and internet users.\n",
      "\n",
      "First step is to fill in the unknown values in the internet users column here I use linear regression, first calculate the average ratio of all countries that have valid values, and fill in the missing values using the calculated ratio and the existing population data. The whole process is below:"
     ]
    },
    {
     "cell_type": "code",
     "collapsed": false,
     "input": [
      "#print(np_array[:,19])"
     ],
     "language": "python",
     "metadata": {},
     "outputs": [],
     "prompt_number": 34
    },
    {
     "cell_type": "code",
     "collapsed": false,
     "input": [
      "np_array = pandas.io.parsers.read_csv(\"country-data-linux.csv\").as_matrix()\n",
      "totalInternetUsers = 0\n",
      "totalGDP = 0\n",
      "for x in np_array:\n",
      "    try:\n",
      "        #print()\n",
      "        #print(int(x[19]))\n",
      "        totalGDP = totalGDP+int(x[9])\n",
      "        #print(totalPopulation)\n",
      "        totalInternetUsers = totalInternetUsers+int(x[19])\n",
      "        #print(totalInternetUsers)\n",
      "    except ValueError:\n",
      "        #print(x[19])\n",
      "        x[19] = -1\n",
      "        #print(x[19])\n"
     ],
     "language": "python",
     "metadata": {},
     "outputs": [],
     "prompt_number": 78
    },
    {
     "cell_type": "code",
     "collapsed": false,
     "input": [
      "from __future__ import division\n",
      "print(totalInternetUsers)\n",
      "print(totalGDP)\n",
      "avgRatio = totalInternetUsers/totalGDP\n",
      "print(avgRatio)"
     ],
     "language": "python",
     "metadata": {},
     "outputs": [
      {
       "output_type": "stream",
       "stream": "stdout",
       "text": [
        "1805576800\n",
        "86690158000000\n",
        "2.08279329702e-05\n"
       ]
      }
     ],
     "prompt_number": 79
    },
    {
     "cell_type": "code",
     "collapsed": false,
     "input": [
      "for x in np_array:\n",
      "    if x[19]==-1:\n",
      "        x[19] = int(x[9]*avgRatio)\n",
      "        print(x[19])"
     ],
     "language": "python",
     "metadata": {},
     "outputs": [
      {
       "output_type": "stream",
       "stream": "stdout",
       "text": [
        "833117\n",
        "293882\n",
        "1249\n",
        "5113\n",
        "306378\n",
        "1873889\n",
        "833\n",
        "18880\n"
       ]
      }
     ],
     "prompt_number": 80
    },
    {
     "cell_type": "code",
     "collapsed": false,
     "input": [
      "for x in np_array:\n",
      "    x[19] = int(x[19])\n",
      "\n",
      "#A = array([ xi, ones(9)])\n",
      "InternetUsers = array([np_array[:,19], ones(len(np_array[:,19]))])\n",
      "GDP = np_array[:,9]\n",
      "\n",
      "#print(InternetUsers)\n",
      "w = linalg.lstsq(InternetUsers.T, GDP)[0]"
     ],
     "language": "python",
     "metadata": {},
     "outputs": [],
     "prompt_number": 81
    },
    {
     "cell_type": "code",
     "collapsed": false,
     "input": [
      "line = w[0]*np_array[:,19]+w[1] # regression line\n",
      "plot(np_array[:,19],line,'r-',np_array[:,19],np_array[:,9],'o')\n",
      "show()"
     ],
     "language": "python",
     "metadata": {},
     "outputs": [
      {
       "metadata": {},
       "output_type": "display_data",
       "png": "[encoded data removed]",
       "text": [
        "<matplotlib.figure.Figure at 0x7f99f00ed550>"
       ]
      }
     ],
     "prompt_number": 82
    },
    {
     "cell_type": "markdown",
     "metadata": {},
     "source": [
      "###Conclusion\n",
      "From the plot we can see that most countries has similar linear relationship between internet users/population and average income (GDP/population). The two countries that are clearly standing out are China and United States. China has a relatively low average income compared to my prediction, while the United States has a relatively higher average income compared to internet users per population.\n",
      "    The Reason is China has a huge population, which lower it's average income. United State is point 0 of modern Internet industry, the Internet is highly developed, it's not the Internet user rate is low, it's the average income of the United State is high."
     ]
    },
    {
     "cell_type": "markdown",
     "metadata": {},
     "source": [
      "##(4) Ranking"
     ]
    },
    {
     "cell_type": "markdown",
     "metadata": {},
     "source": [
      "For social welfare, I use 4 values to evaluate: GDP/population(average income), life expectancy, literacy rate, and health expenditure, because average income is the basis of providing social welfare, without money, there will be no social welfare. Similarly, a country that provides good social welfare often has a higher life expectancy and literacy rate because medical and education are very importatnt part of social welfare.\n",
      "\n",
      "####define:\n",
      "GDP/population: ai;\n",
      "Life expectancy: le;\n",
      "literacy rate: lr;\n",
      "health expenditure: h;\n",
      "\n",
      "The equation I come up with is: index = (ai) X (le) X (lr) X (h)\n",
      "\n",
      "The first task is still filling in the missing values. Because literacy rate and health expenditure have no very clear patter with other values, so I just fill in the mean value."
     ]
    },
    {
     "cell_type": "code",
     "collapsed": false,
     "input": [
      "np_array = pandas.io.parsers.read_csv(\"country-data-linux.csv\").as_matrix()\n",
      "totalRate = 0.0\n",
      "countriesCounted = 0\n",
      "for x in np_array:\n",
      "    try:\n",
      "        totalRate+=float(x[13])\n",
      "        countriesCounted=countriesCounted + 1\n",
      "    except ValueError:\n",
      "        x[13]=-1.0\n",
      "lrMean = totalRate/countriesCounted\n",
      "\n",
      "for x in np_array:\n",
      "    if x[13]==-1.0:\n",
      "        x[13]=float(lrMean)\n",
      "    x[13]=float(x[13])\n",
      "#print(np_array[:,13])"
     ],
     "language": "python",
     "metadata": {},
     "outputs": [],
     "prompt_number": 99
    },
    {
     "cell_type": "code",
     "collapsed": false,
     "input": [
      "totalExp = 0.0\n",
      "countriesCounted = 0\n",
      "for x in np_array:\n",
      "    try:\n",
      "        totalExp+=float(x[14])\n",
      "        countriesCounted=countriesCounted + 1\n",
      "    except ValueError:\n",
      "        x[14]=-1.0\n",
      "heMean = totalExp/countriesCounted\n",
      "#print(heMean)\n",
      "for x in np_array:\n",
      "    if x[14]==-1.0:\n",
      "        x[14]=float(heMean)\n",
      "    x[14]=float(x[14])\n",
      "#print(np_array[:,14])"
     ],
     "language": "python",
     "metadata": {},
     "outputs": [],
     "prompt_number": 102
    },
    {
     "cell_type": "code",
     "collapsed": false,
     "input": [
      "index = []\n",
      "for x in np_array:\n",
      "    index.append(x[9]/x[7]*x[8]*x[13]*x[14])\n",
      "print(\"The country that has the highest social welfare index is:\")\n",
      "print(np_array[:,0][index.index(max(index))])\n",
      "print(\"The country that has the lowest social welfare index is:\")\n",
      "print(np_array[:,0][index.index(min(index))])"
     ],
     "language": "python",
     "metadata": {},
     "outputs": [
      {
       "output_type": "stream",
       "stream": "stdout",
       "text": [
        "The country that has the highest social welfare index is:\n",
        "Monaco\n",
        "The country that has the lowest social welfare index is:\n",
        "Niger\n"
       ]
      }
     ],
     "prompt_number": 109
    },
    {
     "cell_type": "markdown",
     "metadata": {},
     "source": [
      "###Conclusion:\n",
      "By my measure, Monaco does the best in social welfare, while Niger does the worst. This result makes sense because it is commonly known that Monaco is a rich country and provides high social welfare, while Niger is a poor African country, clearly is lacks the resource and wealth to provide its citizens a good social welfare."
     ]
    },
    {
     "cell_type": "markdown",
     "metadata": {},
     "source": [
      "##(5) Similarity"
     ]
    },
    {
     "cell_type": "code",
     "collapsed": false,
     "input": [],
     "language": "python",
     "metadata": {},
     "outputs": []
    }
   ],
   "metadata": {}
  }
 ]
}