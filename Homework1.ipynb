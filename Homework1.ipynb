{
 "metadata": {
  "name": "",
  "signature": "sha256:e4aec571876f89727e6e56c22c4e4da9bf535e735cfef1d4ccf34847b1fa81d8"
 },
 "nbformat": 3,
 "nbformat_minor": 0,
 "worksheets": [
  {
   "cells": [
    {
     "cell_type": "markdown",
     "metadata": {},
     "source": [
      "#CSE 591 Homework1\n",
      "\n",
      "Xiufeng Yang\n",
      "107992992\n"
     ]
    },
    {
     "cell_type": "code",
     "collapsed": false,
     "input": [
      "%install_ext http://raw.github.com/jrjohansson/version_information/master/version_information.py"
     ],
     "language": "python",
     "metadata": {},
     "outputs": [
      {
       "output_type": "stream",
       "stream": "stdout",
       "text": [
        "Installed version_information.py. To use it, type:\n",
        "  %load_ext version_information\n"
       ]
      }
     ],
     "prompt_number": 1
    },
    {
     "cell_type": "code",
     "collapsed": false,
     "input": [
      "%load_ext version_information\n",
      "%version_information numpy, scipy, matplotlib, sympy, scikit_learn, nltk, pandas"
     ],
     "language": "python",
     "metadata": {},
     "outputs": [
      {
       "output_type": "stream",
       "stream": "stdout",
       "text": [
        "The version_information extension is already loaded. To reload it, use:\n",
        "  %reload_ext version_information\n"
       ]
      },
      {
       "html": [
        "<table><tr><th>Software</th><th>Version</th></tr><tr><td>Python</td><td>2.7.6 (default, Mar 22 2014, 22:59:56) [GCC 4.8.2]</td></tr><tr><td>IPython</td><td>2.2.0</td></tr><tr><td>OS</td><td>posix [linux2]</td></tr><tr><td>numpy</td><td>1.9.0</td></tr><tr><td>scipy</td><td>0.13.3</td></tr><tr><td>matplotlib</td><td>1.3.1</td></tr><tr><td>sympy</td><td>0.7.4.1</td></tr><tr><td>scikit_learn</td><td>0.15.2</td></tr><tr><td>nltk</td><td>3.0.0</td></tr><tr><td>pandas</td><td>0.14.1</td></tr><tr><td colspan='2'>Sun Sep 14 13:24:29 2014 EDT</td></tr></table>"
       ],
       "json": [
        "{\"Software versions\": [{\"version\": \"2.7.6 (default, Mar 22 2014, 22:59:56) [GCC 4.8.2]\", \"module\": \"Python\"}, {\"version\": \"2.2.0\", \"module\": \"IPython\"}, {\"version\": \"posix [linux2]\", \"module\": \"OS\"}, {\"version\": \"1.9.0\", \"module\": \"numpy\"}, {\"version\": \"0.13.3\", \"module\": \"scipy\"}, {\"version\": \"1.3.1\", \"module\": \"matplotlib\"}, {\"version\": \"0.7.4.1\", \"module\": \"sympy\"}, {\"version\": \"0.15.2\", \"module\": \"scikit_learn\"}, {\"version\": \"3.0.0\", \"module\": \"nltk\"}, {\"version\": \"0.14.1\", \"module\": \"pandas\"}]}"
       ],
       "latex": [
        "\\begin{tabular}{|l|l|}\\hline\n",
        "{\\bf Software} & {\\bf Version} \\\\ \\hline\\hline\n",
        "Python & 2.7.6 (default, Mar 22 2014, 22:59:56) [GCC 4.8.2] \\\\ \\hline\n",
        "IPython & 2.2.0 \\\\ \\hline\n",
        "OS & posix [linux2] \\\\ \\hline\n",
        "numpy & 1.9.0 \\\\ \\hline\n",
        "scipy & 0.13.3 \\\\ \\hline\n",
        "matplotlib & 1.3.1 \\\\ \\hline\n",
        "sympy & 0.7.4.1 \\\\ \\hline\n",
        "scikit_learn & 0.15.2 \\\\ \\hline\n",
        "nltk & 3.0.0 \\\\ \\hline\n",
        "pandas & 0.14.1 \\\\ \\hline\n",
        "\\hline \\multicolumn{2}{|l|}{Sun Sep 14 13:24:29 2014 EDT} \\\\ \\hline\n",
        "\\end{tabular}\n"
       ],
       "metadata": {},
       "output_type": "pyout",
       "prompt_number": 5,
       "text": [
        "Software versions\n",
        "Python 2.7.6 (default, Mar 22 2014, 22:59:56) [GCC 4.8.2]\n",
        "IPython 2.2.0\n",
        "OS posix [linux2]\n",
        "numpy 1.9.0\n",
        "scipy 0.13.3\n",
        "matplotlib 1.3.1\n",
        "sympy 0.7.4.1\n",
        "scikit_learn 0.15.2\n",
        "nltk 3.0.0\n",
        "pandas 0.14.1\n",
        "<tr><td colspan='2'>Sun Sep 14 13:24:29 2014 EDT</td></tr>"
       ]
      }
     ],
     "prompt_number": 5
    },
    {
     "cell_type": "code",
     "collapsed": false,
     "input": [
      "import numpy as np\n",
      "import pandas\n",
      "from __future__ import print_function"
     ],
     "language": "python",
     "metadata": {},
     "outputs": [],
     "prompt_number": 6
    },
    {
     "cell_type": "code",
     "collapsed": false,
     "input": [
      "np_array = pandas.io.parsers.read_csv(\"country-data-linux.csv\").as_matrix()"
     ],
     "language": "python",
     "metadata": {},
     "outputs": [],
     "prompt_number": 104
    },
    {
     "cell_type": "code",
     "collapsed": false,
     "input": [
      "print(np_array)"
     ],
     "language": "python",
     "metadata": {},
     "outputs": [
      {
       "output_type": "stream",
       "stream": "stdout",
       "text": [
        "[['Afghanistan' 'AF' 'Islamic republic' ..., '1000000' '15' nan]\n",
        " ['Albania' 'AL' 'parliamentary democracy' ..., '1300000' '9.52' nan]\n",
        " ['Algeria' 'DZ' 'republic' ..., '4700000' '8' nan]\n",
        " ..., \n",
        " ['Yemen' 'YE' 'republic' ..., '2349000' '22' nan]\n",
        " ['Zambia' 'ZM' 'republic' ..., '816200' '10.4' nan]\n",
        " ['Zimbabwe' 'ZW' 'parliamentary democracy' ..., '1423000' '28' nan]]\n"
       ]
      }
     ],
     "prompt_number": 17
    },
    {
     "cell_type": "code",
     "collapsed": false,
     "input": [],
     "language": "python",
     "metadata": {},
     "outputs": [],
     "prompt_number": 85
    },
    {
     "cell_type": "code",
     "collapsed": false,
     "input": [
      "%matplotlib inline\n",
      "import matplotlib.pyplot as plt"
     ],
     "language": "python",
     "metadata": {},
     "outputs": [],
     "prompt_number": 36
    },
    {
     "cell_type": "code",
     "collapsed": false,
     "input": [
      "fig, ax = plt.subplots()\n",
      "\n",
      "ax.scatter(np_array[:,10], np_array[:,7])\n",
      "ax.set_title(\"Population vs. Area\")"
     ],
     "language": "python",
     "metadata": {},
     "outputs": [
      {
       "metadata": {},
       "output_type": "pyout",
       "prompt_number": 37,
       "text": [
        "<matplotlib.text.Text at 0x7fa152bbc090>"
       ]
      },
      {
       "metadata": {},
       "output_type": "display_data",
       "png": "[encoded data removed]",
       "text": [
        "<matplotlib.figure.Figure at 0x7fa152fd8d50>"
       ]
      }
     ],
     "prompt_number": 37
    },
    {
     "cell_type": "markdown",
     "metadata": {},
     "source": [
      "###Conclusion\n",
      "The x-axis is area, y-axis is population, most countries stays in a relatively compact area, while only a few stand out. Specifically, two countries have very large population compared with their areas, and 5 countries have very low populations compared with their area."
     ]
    },
    {
     "cell_type": "code",
     "collapsed": false,
     "input": [
      "print(np_array[80,2])"
     ],
     "language": "python",
     "metadata": {},
     "outputs": [
      {
       "output_type": "stream",
       "stream": "stdout",
       "text": [
        "republic, parliamentary democracy\n"
       ]
      }
     ],
     "prompt_number": 38
    },
    {
     "cell_type": "code",
     "collapsed": false,
     "input": [
      "for x in np.nditer(np_array[:,2], op_flags=['readwrite'], flags=['refs_ok']):\n",
      "    #print(type(x))\n",
      "    if x==\"Islamic republic\":\n",
      "        x[...]=1\n",
      "    elif x==\"parliamentary democracy\":\n",
      "        x[...]=2\n",
      "    elif x=='republic':\n",
      "        x[...]=3\n",
      "    elif x=='constitutional monarchy':\n",
      "        x[...]=4\n",
      "    elif x=='federal parliamentary democracy':\n",
      "        x[...]=5\n",
      "    elif x=='federal republic':\n",
      "        x[...]=6\n",
      "    elif x=='constitutional parliamentary democracy':\n",
      "        x[...]=7\n",
      "    elif x=='parliamentary republic':\n",
      "        x[...]=8\n",
      "    elif x=='constitutional government':\n",
      "        x[...]=9\n",
      "    elif x=='constitutional republic':\n",
      "        x[...]=10\n",
      "    elif x=='monarchy':\n",
      "        x[...]=11\n",
      "    elif x=='democratic republic':\n",
      "        x[...]=12\n",
      "    elif x=='Communist state':\n",
      "        x[...]=13\n",
      "    elif x=='federation':\n",
      "        x[...]=14\n",
      "    else:\n",
      "        x[...]=15"
     ],
     "language": "python",
     "metadata": {},
     "outputs": [],
     "prompt_number": 118
    },
    {
     "cell_type": "code",
     "collapsed": false,
     "input": [
      "print(np_array[:,2])"
     ],
     "language": "python",
     "metadata": {},
     "outputs": [
      {
       "output_type": "stream",
       "stream": "stdout",
       "text": [
        "[1 2 3 2 3 4 3 3 5 6 3 7 4 2 2 3 15 2 3 4 3 15 8 6 15 2 8 3 3 15 3 15 3 3 3\n",
        " 13 3 3 3 3 12 3 2 13 15 2 4 3 2 12 3 3 3 3 15 8 6 3 3 3 3 3 3 6 15 8 15 2\n",
        " 15 3 3 3 3 15 2 10 6 3 15 2 15 2 3 7 15 4 15 3 3 15 3 3 15 3 13 2 3 15 3\n",
        " 15 15 2 4 2 3 15 15 3 3 3 9 15 2 6 9 3 4 15 3 4 3 15 3 3 15 4 15 3 3 6 4\n",
        " 11 6 9 15 7 10 10 3 3 15 15 3 14 3 2 2 15 2 3 3 11 3 3 3 15 8 2 8 2 15 3 3\n",
        " 15 3 15 15 11 4 15 15 15 3 3 4 3 15 4 2 3 15 15 2 3 3 15 4 15 10 3 8 6 13\n",
        " 15 3 3 2]\n"
       ]
      }
     ],
     "prompt_number": 77
    },
    {
     "cell_type": "code",
     "collapsed": false,
     "input": [
      "fig, ax1 = plt.subplots()\n",
      "ax1.hist(np_array[:,2], bins=15)\n",
      "ax1.set_title(\"Government types\")\n",
      "ax1.set_xlim(min(np_array[:,2]), max(np_array[:,2]))"
     ],
     "language": "python",
     "metadata": {},
     "outputs": [
      {
       "metadata": {},
       "output_type": "pyout",
       "prompt_number": 84,
       "text": [
        "(1, 15)"
       ]
      },
      {
       "metadata": {},
       "output_type": "display_data",
       "png": "[encoded data removed]",
       "text": [
        "<matplotlib.figure.Figure at 0x7fa152b87490>"
       ]
      }
     ],
     "prompt_number": 84
    },
    {
     "cell_type": "markdown",
     "metadata": {},
     "source": [
      "###Conclusion\n",
      "For plot legend, please refer to above python code. From this plot, we can see that most countries uses government type is republic, and then parliamentary democracy"
     ]
    },
    {
     "cell_type": "code",
     "collapsed": false,
     "input": [
      "totalLaborforce = 0\n",
      "countriesCounted = 0;\n",
      "for x in np.nditer(np_array[:,18], op_flags=['readwrite'], flags=['refs_ok']):\n",
      "    try:\n",
      "        if int(str(x)) > 0:\n",
      "            totalLaborforce+=int(str(x))\n",
      "            countriesCounted=countriesCounted+1\n",
      "    except ValueError:\n",
      "        x[...]=-1\n",
      "        \n",
      "    #print(x)\n",
      "    \n",
      "mean = totalLaborforce//countriesCounted\n",
      "#print(mean)\n",
      "\n",
      "for x in np.nditer(np_array[:,18], op_flags=['readwrite'], flags=['refs_ok']):\n",
      "    if int(str(x)) == -1:\n",
      "        x[...] = mean\n",
      "        \n"
     ],
     "language": "python",
     "metadata": {},
     "outputs": [],
     "prompt_number": 132
    },
    {
     "cell_type": "code",
     "collapsed": false,
     "input": [
      "fig, ax2 = plt.subplots()\n",
      "\n",
      "ax2.scatter(np_array[:,7], np_array[:,18])\n",
      "ax2.set_title(\"Labor Force vs. Population\")"
     ],
     "language": "python",
     "metadata": {},
     "outputs": [
      {
       "metadata": {},
       "output_type": "pyout",
       "prompt_number": 134,
       "text": [
        "<matplotlib.text.Text at 0x7fa152a1ccd0>"
       ]
      },
      {
       "metadata": {},
       "output_type": "display_data",
       "png": "[encoded data removed]",
       "text": [
        "<matplotlib.figure.Figure at 0x7fa152851ad0>"
       ]
      }
     ],
     "prompt_number": 134
    },
    {
     "cell_type": "markdown",
     "metadata": {},
     "source": [
      "###Conclusion\n",
      "In this plot, we can see that the labor forces of each countries have an almost linear relationship with population. The two dots that are standing out are calculated by the values got from Mean value imputation. This implies that mean value imputation is not appropriate in this situation. Based on the pattern of other countries, imputation by interpolation is a much better way to fill in the missing values in this kind of scenario."
     ]
    },
    {
     "cell_type": "code",
     "collapsed": false,
     "input": [
      "fig, ax3 = plt.subplots()\n",
      "ax3.hist(np_array[:,8], bins=8)\n",
      "ax3.set_title(\"Life Expectancy\")\n",
      "ax3.set_xlim(min(np_array[:,8]), max(np_array[:,8]))"
     ],
     "language": "python",
     "metadata": {},
     "outputs": [
      {
       "metadata": {},
       "output_type": "pyout",
       "prompt_number": 137,
       "text": [
        "(49.44, 89.57)"
       ]
      },
      {
       "metadata": {},
       "output_type": "display_data",
       "png": "[encoded data removed]",
       "text": [
        "<matplotlib.figure.Figure at 0x7fa1544d7d90>"
       ]
      }
     ],
     "prompt_number": 137
    },
    {
     "cell_type": "markdown",
     "metadata": {},
     "source": [
      "In this plot we can see the distribution of life expectancy of all countries. The most countries has life expectancy of 75-80, following by 70-75. Very few countries has life expectancy of 85-90. No countries have it over 90 yet."
     ]
    },
    {
     "cell_type": "code",
     "collapsed": false,
     "input": [
      "pd_array = pandas.io.parsers.read_csv(\"country-data-linux.csv\")\n",
      "corr=pd_array.corr()\n",
      "plt.imshow(corr, cmap='hot', interpolation='none')\n",
      "plt.colorbar()\n",
      "plt.xticks(range(len(corr)), corr.columns)\n",
      "plt.yticks(range(len(corr)), corr.columns)\n",
      "fig.set_size_inches(28.5,20.5)"
     ],
     "language": "python",
     "metadata": {},
     "outputs": [
      {
       "metadata": {},
       "output_type": "display_data",
       "png": "[encoded data removed]",
       "text": [
        "<matplotlib.figure.Figure at 0x7fa15249ae90>"
       ]
      }
     ],
     "prompt_number": 143
    },
    {
     "cell_type": "code",
     "collapsed": false,
     "input": [],
     "language": "python",
     "metadata": {},
     "outputs": []
    }
   ],
   "metadata": {}
  }
 ]
}