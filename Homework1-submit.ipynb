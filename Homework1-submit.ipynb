{
 "metadata": {
  "name": "",
  "signature": "sha256:591a3c30b9aee64cdb08264d4765734505201d8abfa0d346603158861eeee93a"
 },
 "nbformat": 3,
 "nbformat_minor": 0,
 "worksheets": [
  {
   "cells": [
    {
     "cell_type": "markdown",
     "metadata": {},
     "source": [
      "#CSE 591 Homework1\n",
      "\n",
      "Xiufeng Yang\n",
      "107992992\n"
     ]
    },
    {
     "cell_type": "code",
     "collapsed": false,
     "input": [
      "%install_ext http://raw.github.com/jrjohansson/version_information/master/version_information.py"
     ],
     "language": "python",
     "metadata": {},
     "outputs": [
      {
       "output_type": "stream",
       "stream": "stdout",
       "text": [
        "Installed version_information.py. To use it, type:\n",
        "  %load_ext version_information\n"
       ]
      }
     ],
     "prompt_number": 2
    },
    {
     "cell_type": "code",
     "collapsed": false,
     "input": [
      "#%load_ext version_information\n",
      "#%version_information numpy, scipy, matplotlib, sympy, scikit_learn, nltk, pandas"
     ],
     "language": "python",
     "metadata": {},
     "outputs": [],
     "prompt_number": 1
    },
    {
     "cell_type": "markdown",
     "metadata": {},
     "source": [
      "## Plots\n",
      "### Capital Map"
     ]
    },
    {
     "cell_type": "code",
     "collapsed": false,
     "input": [
      "import numpy as np\n",
      "import pandas\n",
      "from __future__ import print_function\n",
      "%matplotlib inline\n",
      "import matplotlib.pyplot as plt\n",
      "from mpl_toolkits.basemap import Basemap"
     ],
     "language": "python",
     "metadata": {},
     "outputs": [],
     "prompt_number": 142
    },
    {
     "cell_type": "code",
     "collapsed": false,
     "input": [
      "np_array = pandas.io.parsers.read_csv(\"country-data-linux.csv\").as_matrix()"
     ],
     "language": "python",
     "metadata": {},
     "outputs": [],
     "prompt_number": 193
    },
    {
     "cell_type": "code",
     "collapsed": false,
     "input": [
      "print(np_array)"
     ],
     "language": "python",
     "metadata": {},
     "outputs": [
      {
       "output_type": "stream",
       "stream": "stdout",
       "text": [
        "[['Afghanistan' 'AF' 'Islamic republic' ..., '7512000' '1000000' '15']\n",
        " ['Albania' 'AL' 'parliamentary democracy' ..., '1098000' '1300000' '9.52']\n",
        " ['Algeria' 'DZ' 'republic' ..., '11150000' '4700000' '8']\n",
        " ..., \n",
        " ['Yemen' 'YE' 'republic' ..., '7100000' '2349000' '22']\n",
        " ['Zambia' 'ZM' 'republic' ..., '6275000' '816200' '10.4']\n",
        " ['Zimbabwe' 'ZW' 'parliamentary democracy' ..., '3939000' '1423000' '28']]\n"
       ]
      }
     ],
     "prompt_number": 194
    },
    {
     "cell_type": "code",
     "collapsed": false,
     "input": [
      "def conversion(old):\n",
      "    new = old\n",
      "    direction = {'N':1, 'S':-1, 'E': 1, 'W':-1}\n",
      "    #new = old.replace(u'\u00b0',' ').replace('\\'',' ').replace('\"',' ')\n",
      "    new = new.split()\n",
      "    new_dir = new.pop()\n",
      "    new.extend([0,0,0])\n",
      "    return (int(new[0])+int(new[1])/60.0+int(new[2])/3600.0) * direction[new_dir]\n",
      "\n",
      "for x in np_array:\n",
      "    try:\n",
      "        x[5]=conversion(x[5])\n",
      "        x[6]=conversion(x[6])\n",
      "    except AttributeError:\n",
      "        x[5]=0\n",
      "        x[6]=0\n",
      "#print(np_array[:,5])\n",
      "#print(np_array[:,6])"
     ],
     "language": "python",
     "metadata": {},
     "outputs": [],
     "prompt_number": 195
    },
    {
     "cell_type": "code",
     "collapsed": false,
     "input": [
      "m = Basemap(projection='cyl',llcrnrlat=-90,urcrnrlat=90,\\\n",
      "            llcrnrlon=-180,urcrnrlon=180,resolution='c')\n",
      "m.drawcoastlines()\n",
      "m.fillcontinents(color='coral',lake_color='aqua')\n",
      "m.drawparallels(np.arange(-90.,91.,30.))\n",
      "m.drawmeridians(np.arange(-180.,181.,60.))\n",
      "m.drawmapboundary(fill_color='aqua')\n",
      "plt.title(\"capital\")\n",
      "for x in np_array:\n",
      "    try:\n",
      "        x, y = m(x[6], x[5])\n",
      "        m.plot(x, y, 'bo', markersize=10)\n",
      "    except:\n",
      "        continue\n",
      "plt.show()"
     ],
     "language": "python",
     "metadata": {},
     "outputs": [
      {
       "metadata": {},
       "output_type": "display_data",
       "png": "[encoded data removed]",
       "text": [
        "<matplotlib.figure.Figure at 0x7f99df573d50>"
       ]
      }
     ],
     "prompt_number": 196
    },
    {
     "cell_type": "markdown",
     "metadata": {},
     "source": [
      "####Conclusion:\n",
      "\n",
      "This datamap maps all capital cities on the world map"
     ]
    },
    {
     "cell_type": "markdown",
     "metadata": {},
     "source": [
      "###Population vs. Area"
     ]
    },
    {
     "cell_type": "code",
     "collapsed": false,
     "input": [
      "fig, ax = plt.subplots()\n",
      "\n",
      "ax.scatter(np_array[:,10], np_array[:,7])\n",
      "ax.set_title(\"Population vs. Area\")"
     ],
     "language": "python",
     "metadata": {},
     "outputs": [
      {
       "metadata": {},
       "output_type": "pyout",
       "prompt_number": 11,
       "text": [
        "<matplotlib.text.Text at 0x7f6420cc0650>"
       ]
      },
      {
       "metadata": {},
       "output_type": "display_data",
       "png": "[encoded data removed]",
       "text": [
        "<matplotlib.figure.Figure at 0x7f6421048410>"
       ]
      }
     ],
     "prompt_number": 11
    },
    {
     "cell_type": "markdown",
     "metadata": {},
     "source": [
      "####Conclusion\n",
      "The x-axis is area, y-axis is population, most countries stays in a relatively compact area, while only a few stand out. Specifically, two countries have very large population compared with their areas, and 5 countries have very low populations compared with their area."
     ]
    },
    {
     "cell_type": "markdown",
     "metadata": {},
     "source": [
      "###Government Type Distribution"
     ]
    },
    {
     "cell_type": "code",
     "collapsed": false,
     "input": [
      "print(np_array[80,2])"
     ],
     "language": "python",
     "metadata": {},
     "outputs": [
      {
       "output_type": "stream",
       "stream": "stdout",
       "text": [
        "republic; parliamentary democracy\n"
       ]
      }
     ],
     "prompt_number": 12
    },
    {
     "cell_type": "code",
     "collapsed": false,
     "input": [
      "for x in np.nditer(np_array[:,2], op_flags=['readwrite'], flags=['refs_ok']):\n",
      "    #print(type(x))\n",
      "    if x==\"Islamic republic\":\n",
      "        x[...]=1\n",
      "    elif x==\"parliamentary democracy\":\n",
      "        x[...]=2\n",
      "    elif x=='republic':\n",
      "        x[...]=3\n",
      "    elif x=='constitutional monarchy':\n",
      "        x[...]=4\n",
      "    elif x=='federal parliamentary democracy':\n",
      "        x[...]=5\n",
      "    elif x=='federal republic':\n",
      "        x[...]=6\n",
      "    elif x=='constitutional parliamentary democracy':\n",
      "        x[...]=7\n",
      "    elif x=='parliamentary republic':\n",
      "        x[...]=8\n",
      "    elif x=='constitutional government':\n",
      "        x[...]=9\n",
      "    elif x=='constitutional republic':\n",
      "        x[...]=10\n",
      "    elif x=='monarchy':\n",
      "        x[...]=11\n",
      "    elif x=='democratic republic':\n",
      "        x[...]=12\n",
      "    elif x=='Communist state':\n",
      "        x[...]=13\n",
      "    elif x=='federation':\n",
      "        x[...]=14\n",
      "    else:\n",
      "        x[...]=15"
     ],
     "language": "python",
     "metadata": {},
     "outputs": [],
     "prompt_number": 13
    },
    {
     "cell_type": "code",
     "collapsed": false,
     "input": [
      "print(np_array[:,2])"
     ],
     "language": "python",
     "metadata": {},
     "outputs": [
      {
       "output_type": "stream",
       "stream": "stdout",
       "text": [
        "[1 2 3 2 3 4 3 3 5 6 3 7 4 2 2 3 15 2 3 4 3 15 8 6 15 2 8 3 3 15 3 15 3 3 3\n",
        " 13 3 3 3 3 12 3 2 13 15 2 4 3 2 12 3 3 3 3 15 8 6 3 3 3 3 3 3 6 15 8 15 2\n",
        " 15 3 3 3 3 15 2 10 6 3 15 2 15 2 3 7 15 4 15 3 3 15 3 3 15 3 13 2 3 15 3\n",
        " 15 15 2 4 2 3 15 15 3 3 3 9 15 2 6 9 3 4 15 3 4 3 15 3 3 15 4 15 3 3 6 4\n",
        " 11 6 9 15 7 10 10 3 3 15 15 3 14 3 2 2 15 2 3 3 11 3 3 3 15 8 2 8 2 15 3 3\n",
        " 15 3 15 15 11 4 15 15 15 3 3 4 3 15 4 2 3 15 15 2 3 3 15 4 15 10 3 8 6 13\n",
        " 15 3 3 2]\n"
       ]
      }
     ],
     "prompt_number": 14
    },
    {
     "cell_type": "code",
     "collapsed": false,
     "input": [
      "fig, ax1 = plt.subplots()\n",
      "ax1.hist(np_array[:,2], bins=15)\n",
      "ax1.set_title(\"Government types\")\n",
      "ax1.set_xlim(min(np_array[:,2]), max(np_array[:,2]))"
     ],
     "language": "python",
     "metadata": {},
     "outputs": [
      {
       "metadata": {},
       "output_type": "pyout",
       "prompt_number": 15,
       "text": [
        "(1, 15)"
       ]
      },
      {
       "metadata": {},
       "output_type": "display_data",
       "png": "[encoded data removed]",
       "text": [
        "<matplotlib.figure.Figure at 0x7f6420d49f90>"
       ]
      }
     ],
     "prompt_number": 15
    },
    {
     "cell_type": "markdown",
     "metadata": {},
     "source": [
      "####Conclusion\n",
      "For plot legend, please refer to above python code. From this plot, we can see that most countries uses government type is republic, and then parliamentary democracy"
     ]
    },
    {
     "cell_type": "markdown",
     "metadata": {},
     "source": [
      "###Labor Force vs. Population"
     ]
    },
    {
     "cell_type": "code",
     "collapsed": false,
     "input": [
      "totalLaborforce = 0\n",
      "countriesCounted = 0;\n",
      "for x in np.nditer(np_array[:,18], op_flags=['readwrite'], flags=['refs_ok']):\n",
      "    try:\n",
      "        if int(str(x)) > 0:\n",
      "            totalLaborforce+=int(str(x))\n",
      "            countriesCounted=countriesCounted+1\n",
      "    except ValueError:\n",
      "        x[...]=-1\n",
      "        \n",
      "    #print(x)\n",
      "    \n",
      "mean = totalLaborforce//countriesCounted\n",
      "#print(mean)\n",
      "\n",
      "for x in np.nditer(np_array[:,18], op_flags=['readwrite'], flags=['refs_ok']):\n",
      "    if int(str(x)) == -1:\n",
      "        x[...] = mean\n",
      "        \n"
     ],
     "language": "python",
     "metadata": {},
     "outputs": [],
     "prompt_number": 16
    },
    {
     "cell_type": "code",
     "collapsed": false,
     "input": [
      "fig, ax2 = plt.subplots()\n",
      "\n",
      "ax2.scatter(np_array[:,7], np_array[:,18])\n",
      "ax2.set_title(\"Labor Force vs. Population\")"
     ],
     "language": "python",
     "metadata": {},
     "outputs": [
      {
       "metadata": {},
       "output_type": "pyout",
       "prompt_number": 17,
       "text": [
        "<matplotlib.text.Text at 0x7f6420b049d0>"
       ]
      },
      {
       "metadata": {},
       "output_type": "display_data",
       "png": "[encoded data removed]",
       "text": [
        "<matplotlib.figure.Figure at 0x7f6420ce3490>"
       ]
      }
     ],
     "prompt_number": 17
    },
    {
     "cell_type": "markdown",
     "metadata": {},
     "source": [
      "####Conclusion\n",
      "In this plot, we can see that the labor forces of each countries have an almost linear relationship with population. The two dots that are standing out are calculated by the values got from Mean value imputation. This implies that mean value imputation is not appropriate in this situation. Based on the pattern of other countries, imputation by interpolation is a much better way to fill in the missing values in this kind of scenario."
     ]
    },
    {
     "cell_type": "markdown",
     "metadata": {},
     "source": [
      "###Life Expectancy Distribution"
     ]
    },
    {
     "cell_type": "code",
     "collapsed": false,
     "input": [
      "fig, ax3 = plt.subplots()\n",
      "ax3.hist(np_array[:,8], bins=8)\n",
      "ax3.set_title(\"Life Expectancy\")\n",
      "ax3.set_xlim(min(np_array[:,8]), max(np_array[:,8]))"
     ],
     "language": "python",
     "metadata": {},
     "outputs": [
      {
       "metadata": {},
       "output_type": "pyout",
       "prompt_number": 18,
       "text": [
        "(49.44, 89.57)"
       ]
      },
      {
       "metadata": {},
       "output_type": "display_data",
       "png": "[encoded data removed]",
       "text": [
        "<matplotlib.figure.Figure at 0x7f642d1d3d90>"
       ]
      }
     ],
     "prompt_number": 18
    },
    {
     "cell_type": "markdown",
     "metadata": {},
     "source": [
      "In this plot we can see the distribution of life expectancy of all countries. The most countries has life expectancy of 75-80, following by 70-75. Very few countries has life expectancy of 85-90. No countries have it over 90 yet.\n",
      "\n",
      "##Pairwise correlation"
     ]
    },
    {
     "cell_type": "markdown",
     "metadata": {},
     "source": [
      "#### Existing problem:\n",
      "The code above can only deal with columns that don't have missing values, but the funcion is working perfectly. Just need to calculate the missing values (done some columns in the following sections) and fill in the file, re-run the code, it will give all the permutations."
     ]
    },
    {
     "cell_type": "code",
     "collapsed": false,
     "input": [
      "pd_array = pandas.io.parsers.read_csv(\"country-data-linux.csv\")\n",
      "#print(pd_array)\n",
      "corr=pd_array.corr()\n",
      "print(corr)\n",
      "plt.imshow(corr, cmap='hot', interpolation='none')\n",
      "plt.colorbar()\n",
      "plt.xticks(range(len(corr)), corr.columns)\n",
      "plt.yticks(range(len(corr)), corr.columns)"
     ],
     "language": "python",
     "metadata": {},
     "outputs": [
      {
       "output_type": "stream",
       "stream": "stdout",
       "text": [
        "                      Population  Life Expectancy  GDP (PPP) in US $  \\\n",
        "Population              1.000000         0.014249           0.697280   \n",
        "Life Expectancy         0.014249         1.000000           0.175071   \n",
        "GDP (PPP) in US $       0.697280         0.175071           1.000000   \n",
        "Area (sq km)            0.453228         0.033022           0.592445   \n",
        "Land Boundaries (km)    0.575146        -0.219494           0.500468   \n",
        "Coastline (km)          0.120474         0.162933           0.204414   \n",
        "\n",
        "                      Area (sq km)  Land Boundaries (km)  Coastline (km)  \n",
        "Population                0.453228              0.575146        0.120474  \n",
        "Life Expectancy           0.033022             -0.219494        0.162933  \n",
        "GDP (PPP) in US $         0.592445              0.500468        0.204414  \n",
        "Area (sq km)              1.000000              0.749098        0.521336  \n",
        "Land Boundaries (km)      0.749098              1.000000        0.195977  \n",
        "Coastline (km)            0.521336              0.195977        1.000000  \n",
        "\n",
        "[6 rows x 6 columns]\n"
       ]
      },
      {
       "metadata": {},
       "output_type": "pyout",
       "prompt_number": 114,
       "text": [
        "([<matplotlib.axis.YTick at 0x7f99eac25790>,\n",
        "  <matplotlib.axis.YTick at 0x7f99eadd3750>,\n",
        "  <matplotlib.axis.YTick at 0x7f99eac6a190>,\n",
        "  <matplotlib.axis.YTick at 0x7f99eac6a890>,\n",
        "  <matplotlib.axis.YTick at 0x7f99eadb1e10>,\n",
        "  <matplotlib.axis.YTick at 0x7f99eadb16d0>],\n",
        " <a list of 6 Text yticklabel objects>)"
       ]
      },
      {
       "metadata": {},
       "output_type": "display_data",
       "png": "[encoded data removed]",
       "text": [
        "<matplotlib.figure.Figure at 0x7f99eaad69d0>"
       ]
      }
     ],
     "prompt_number": 114
    },
    {
     "cell_type": "markdown",
     "metadata": {},
     "source": [
      "###Conclusion:\n",
      "From the plot, I can conclude that for the existing columns, most significantly correlated is Land Boundaries and Area; least significantly correlated is Land Boundaries and Life Expectancy. The result makes perfect sense because area and land boundaries have strong relationship, while land boundaries and life expectancy don't necessarily have relationship."
     ]
    },
    {
     "cell_type": "markdown",
     "metadata": {},
     "source": [
      "##Linear regression of GDP per capita"
     ]
    },
    {
     "cell_type": "markdown",
     "metadata": {},
     "source": []
    },
    {
     "cell_type": "markdown",
     "metadata": {},
     "source": [
      "I think the factor that will most likely have a linear relationship with GDP per capita is the ratios of (internet users / population). Because modern technologies like the Internet has a big impact on the economy of a country, and the development of economy will also have impact on the development of the Internet.\n",
      "\n",
      "Because GDP per capita is GDP / population, and internet user rate is internet users / population, so the problem can be simplified by compare GDP and internet users.\n",
      "\n",
      "First step is to fill in the unknown values in the internet users column here I use linear regression, first calculate the average ratio of all countries that have valid values, and fill in the missing values using the calculated ratio and the existing population data. The whole process is below:"
     ]
    },
    {
     "cell_type": "code",
     "collapsed": false,
     "input": [
      "#print(np_array[:,19])"
     ],
     "language": "python",
     "metadata": {},
     "outputs": [],
     "prompt_number": 34
    },
    {
     "cell_type": "code",
     "collapsed": false,
     "input": [
      "#np_array = pandas.io.parsers.read_csv(\"country-data-linux.csv\").as_matrix()\n",
      "totalInternetUsers = 0\n",
      "totalGDP = 0\n",
      "for x in np_array:\n",
      "    try:\n",
      "        #print()\n",
      "        #print(int(x[19]))\n",
      "        totalGDP = totalGDP+int(x[9])\n",
      "        #print(totalPopulation)\n",
      "        totalInternetUsers = totalInternetUsers+int(x[19])\n",
      "        #print(totalInternetUsers)\n",
      "    except ValueError:\n",
      "        #print(x[19])\n",
      "        x[19] = -1\n",
      "        #print(x[19])\n"
     ],
     "language": "python",
     "metadata": {},
     "outputs": [],
     "prompt_number": 116
    },
    {
     "cell_type": "code",
     "collapsed": false,
     "input": [
      "from __future__ import division\n",
      "print(totalInternetUsers)\n",
      "print(totalGDP)\n",
      "avgRatio = totalInternetUsers/totalGDP\n",
      "print(avgRatio)"
     ],
     "language": "python",
     "metadata": {},
     "outputs": [
      {
       "output_type": "stream",
       "stream": "stdout",
       "text": [
        "1805576800\n",
        "86690158000000\n",
        "2.08279329702e-05\n"
       ]
      }
     ],
     "prompt_number": 117
    },
    {
     "cell_type": "code",
     "collapsed": false,
     "input": [
      "for x in np_array:\n",
      "    if x[19]==-1:\n",
      "        x[19] = int(x[9]*avgRatio)\n",
      "        print(x[19])"
     ],
     "language": "python",
     "metadata": {},
     "outputs": [
      {
       "output_type": "stream",
       "stream": "stdout",
       "text": [
        "833117\n",
        "293882\n",
        "1249\n",
        "5113\n",
        "306378\n",
        "1873889\n",
        "833\n",
        "18880\n"
       ]
      }
     ],
     "prompt_number": 118
    },
    {
     "cell_type": "code",
     "collapsed": false,
     "input": [
      "for x in np_array:\n",
      "    x[19] = int(x[19])\n",
      "\n",
      "#A = array([ xi, ones(9)])\n",
      "InternetUsers = array([np_array[:,19], ones(len(np_array[:,19]))])\n",
      "GDP = np_array[:,9]\n",
      "\n",
      "#print(InternetUsers)\n",
      "w = linalg.lstsq(InternetUsers.T, GDP)[0]"
     ],
     "language": "python",
     "metadata": {},
     "outputs": [],
     "prompt_number": 119
    },
    {
     "cell_type": "code",
     "collapsed": false,
     "input": [
      "line = w[0]*np_array[:,19]+w[1] # regression line\n",
      "plot(np_array[:,19],line,'r-',np_array[:,19],np_array[:,9],'o')\n",
      "show()"
     ],
     "language": "python",
     "metadata": {},
     "outputs": [
      {
       "metadata": {},
       "output_type": "display_data",
       "png": "[encoded data removed]",
       "text": [
        "<matplotlib.figure.Figure at 0x7f99f00ed550>"
       ]
      }
     ],
     "prompt_number": 82
    },
    {
     "cell_type": "markdown",
     "metadata": {},
     "source": [
      "###Conclusion\n",
      "From the plot we can see that most countries has similar linear relationship between internet users/population and average income (GDP/population). The two countries that are clearly standing out are China and United States. China has a relatively low average income compared to my prediction, while the United States has a relatively higher average income compared to internet users per population.\n",
      "    The Reason is China has a huge population, which lower it's average income. United State is point 0 of modern Internet industry, the Internet is highly developed, it's not the Internet user rate is low, it's the average income of the United State is high."
     ]
    },
    {
     "cell_type": "markdown",
     "metadata": {},
     "source": [
      "## Ranking"
     ]
    },
    {
     "cell_type": "markdown",
     "metadata": {},
     "source": [
      "For social welfare, I use 4 values to evaluate: GDP/population(average income), life expectancy, literacy rate, and health expenditure, because average income is the basis of providing social welfare, without money, there will be no social welfare. Similarly, a country that provides good social welfare often has a higher life expectancy and literacy rate because medical and education are very importatnt part of social welfare.\n",
      "\n",
      "define:\n",
      "GDP/population: ai;\n",
      "Life expectancy: le;\n",
      "literacy rate: lr;\n",
      "health expenditure: h;\n",
      "\n",
      "The equation I come up with is: index = (ai) X (le) X (lr) X (h)\n",
      "\n",
      "The first task is still filling in the missing values. Because literacy rate and health expenditure have no very clear patter with other values, so I just fill in the mean value."
     ]
    },
    {
     "cell_type": "code",
     "collapsed": false,
     "input": [
      "np_array = pandas.io.parsers.read_csv(\"country-data-linux.csv\").as_matrix()\n",
      "totalRate = 0.0\n",
      "countriesCounted = 0\n",
      "for x in np_array:\n",
      "    try:\n",
      "        totalRate+=float(x[13])\n",
      "        countriesCounted=countriesCounted + 1\n",
      "    except ValueError:\n",
      "        x[13]=-1.0\n",
      "lrMean = totalRate/countriesCounted\n",
      "\n",
      "for x in np_array:\n",
      "    if x[13]==-1.0:\n",
      "        x[13]=float(lrMean)\n",
      "    x[13]=float(x[13])\n",
      "#print(np_array[:,13])"
     ],
     "language": "python",
     "metadata": {},
     "outputs": [],
     "prompt_number": 99
    },
    {
     "cell_type": "code",
     "collapsed": false,
     "input": [
      "totalExp = 0.0\n",
      "countriesCounted = 0\n",
      "for x in np_array:\n",
      "    try:\n",
      "        totalExp+=float(x[14])\n",
      "        countriesCounted=countriesCounted + 1\n",
      "    except ValueError:\n",
      "        x[14]=-1.0\n",
      "heMean = totalExp/countriesCounted\n",
      "#print(heMean)\n",
      "for x in np_array:\n",
      "    if x[14]==-1.0:\n",
      "        x[14]=float(heMean)\n",
      "    x[14]=float(x[14])\n",
      "#print(np_array[:,14])"
     ],
     "language": "python",
     "metadata": {},
     "outputs": [],
     "prompt_number": 102
    },
    {
     "cell_type": "code",
     "collapsed": false,
     "input": [
      "index = []\n",
      "for x in np_array:\n",
      "    index.append(x[9]/x[7]*x[8]*x[13]*x[14])\n",
      "print(\"The country that has the highest social welfare index is:\")\n",
      "print(np_array[:,0][index.index(max(index))])\n",
      "print(\"The country that has the lowest social welfare index is:\")\n",
      "print(np_array[:,0][index.index(min(index))])"
     ],
     "language": "python",
     "metadata": {},
     "outputs": [
      {
       "output_type": "stream",
       "stream": "stdout",
       "text": [
        "The country that has the highest social welfare index is:\n",
        "Monaco\n",
        "The country that has the lowest social welfare index is:\n",
        "Niger\n"
       ]
      }
     ],
     "prompt_number": 109
    },
    {
     "cell_type": "markdown",
     "metadata": {},
     "source": [
      "###Conclusion:\n",
      "By my measure, Monaco does the best in social welfare, while Niger does the worst. This result makes sense because it is commonly known that Monaco is a rich country and provides high social welfare, while Niger is a poor African country, clearly is lacks the resource and wealth to provide its citizens a good social welfare."
     ]
    },
    {
     "cell_type": "markdown",
     "metadata": {},
     "source": [
      "##Similarity"
     ]
    },
    {
     "cell_type": "markdown",
     "metadata": {},
     "source": [
      "For the similarities and differences, I measure from two aspects: natural difference and social difference.\n",
      "\n",
      "For natual difference, measure Area, land boundaries, and coastline.\n",
      "For social difference, measure population, life expectancy, GDP, literacy rate, health expenditure, internet users.\n",
      "\n",
      "I'll measure \n",
      "####the percentage of each value above of each country among all countries, and add them up to create a ranking index. Then by comparing the index, I can conclude which two countries are most apart and which two countries are most close.\n",
      "\n",
      "I will start by calculating the total values of each column:"
     ]
    },
    {
     "cell_type": "code",
     "collapsed": false,
     "input": [
      "totalArea = 0\n",
      "totalLandBoundaries = 0\n",
      "totalCoastline = 0\n",
      "totalPopulation = 0\n",
      "totalLifeExpectancy = 0\n",
      "totalGDP = 0\n",
      "totalLiteracyRate = 0\n",
      "totalHealthExpenditure = 0\n",
      "totalInternetUsers = 0\n",
      "\n",
      "for x in np_array:\n",
      "    totalArea = totalArea + x[10]\n",
      "    totalLandBoundaries = totalLandBoundaries + x[11]\n",
      "    totalCoastline = totalCoastline + x[12]\n",
      "    totalPopulation = totalPopulation + x[7]\n",
      "    totalLifeExpectancy = totalLifeExpectancy + x[8]\n",
      "    totalGDP = totalGDP + x[9]\n",
      "    totalLiteracyRate = totalLiteracyRate + x[13]\n",
      "    totalHealthExpenditure = totalHealthExpenditure + x[14]\n",
      "    totalInternetUsers = totalInternetUsers + x[19]\n",
      "print(totalArea)\n",
      "print(totalLandBoundaries)\n",
      "print(totalCoastline)\n",
      "print(totalPopulation)\n",
      "print(totalLifeExpectancy)\n",
      "print(totalGDP)\n",
      "print(totalLiteracyRate)\n",
      "print(totalHealthExpenditure)\n",
      "print(totalInternetUsers)\n"
     ],
     "language": "python",
     "metadata": {},
     "outputs": [
      {
       "output_type": "stream",
       "stream": "stdout",
       "text": [
        "136159276.6\n",
        "541082.2\n",
        "762467.2\n",
        "7156890822\n",
        "13921.61\n",
        "86690158000000\n",
        "16716.8279793\n",
        "1377.01957672\n",
        "1808910141\n"
       ]
      }
     ],
     "prompt_number": 120
    },
    {
     "cell_type": "markdown",
     "metadata": {},
     "source": [
      "For each country, calculate the index and then create a new array to store the calculated index"
     ]
    },
    {
     "cell_type": "code",
     "collapsed": false,
     "input": [
      "indexArray = []\n",
      "for x in np_array:\n",
      "    indexArray.append(x[10]/totalArea+x[11]/totalLandBoundaries+x[12]/totalCoastline+x[7]/totalPopulation+x[8]/totalLifeExpectancy+x[9]/totalGDP+x[13]/totalLiteracyRate+x[14]/totalHealthExpenditure+x[19]/totalInternetUsers)\n",
      "print(indexArray)"
     ],
     "language": "python",
     "metadata": {},
     "outputs": [
      {
       "output_type": "stream",
       "stream": "stdout",
       "text": [
        "[0.03365614847675576, 0.019396153816547593, 0.05521456383073162, 0.0174545329912076, 0.03642476335175857, 0.015945726810329606, 0.08886396566057664, 0.01830537457477895, 0.13239307443046575, 0.033308711126329875, 0.02398481512766714, 0.02146523546753531, 0.015098546495368459, 0.048506831372305444, 0.01729800242723096, 0.027704225964482236, 0.0328786625760783, 0.01543892645705089, 0.016895438458208647, 0.01366283738464034, 0.0381862139727416, 0.02370448460075721, 0.02574376602567668, 0.21752388633993686, 0.01427169441991933, 0.025411978408286778, 0.022029877092694557, 0.01853283804519206, 0.015184481676481246, 0.022388421981899692, 0.029713526038191284, 0.412004800198743, 0.026138786566306426, 0.032071475185270204, 0.055559218217029055, 0.7047971818696956, 0.06533148695612706, 0.013518544960843428, 0.06218924520897932, 0.02404162280596866, 0.02477840688389987, 0.026174542659054244, 0.03204171508130979, 0.028444242567992748, 0.01876458851751601, 0.029754506927996603, 0.035746010350291464, 0.01599549216976637, 0.015646283432705778, 0.021745686757200643, 0.0312749211814385, 0.0582842874852523, 0.018784850137778426, 0.015006345359753051, 0.01882248908814519, 0.023228434591050142, 0.044283406840642144, 0.015402898831484248, 0.03244897207302337, 0.09589343501731283, 0.02117577493532257, 0.012830668956338715, 0.024223676930614123, 0.11688769761812877, 0.02477607095207671, 0.046416210007994826, 0.09029735504707753, 0.015753556861042694, 0.023210939234836983, 0.02259458871220723, 0.013878230820293646, 0.022531992283778023, 0.018514381641936424, 0.02346261610184722, 0.02857775435441949, 0.02600182756490132, 0.33466858518751796, 0.1652274903250697, 0.06795493514511311, 0.033798472604479206, 0.02632240059724151, 0.026468993963707284, 0.07988862643720036, 0.017253133138154256, 0.1876775194644672, 0.023550418295402057, 0.06680019185711294, 0.03383311378730379, 0.01864558471987884, 0.027594544134187972, 0.06900334289452477, 0.017622206711479654, 0.017721864191911955, 0.027550615155991935, 0.023786733023225804, 0.02135268109738068, 0.018864318797146697, 0.02106718847238823, 0.0272537988475081, 0.039191504105375134, 0.017119903421772324, 0.022311611969036086, 0.018743935534874318, 0.01893873869482896, 0.025835573557605143, 0.024031513291393854, 0.04590455219202251, 0.01844214048405271, 0.03726225611834256, 0.01803500275289541, 0.02330486949815908, 0.030331210326627243, 0.015831250281820003, 0.10567248218357453, 0.028306194656775013, 0.024360499221653453, 0.015583872094919453, 0.04184588789908143, 0.02008257715527991, 0.03791028961689806, 0.03399130374118988, 0.04041969803785123, 0.02938299501590007, 0.017004733577874253, 0.02423500011001317, 0.041957262880539824, 0.04494844810591074, 0.022941177985086974, 0.03225092076354049, 0.08206374050876503, 0.06497881514418202, 0.022509544855944003, 0.07587419028936751, 0.020420341647490785, 0.02404226979082993, 0.02455141009670702, 0.0318453876900069, 0.053005854257655485, 0.0885487780259924, 0.051626587925286065, 0.03139925094186222, 0.016655232553672003, 0.03346508142878414, 0.3038167893877375, 0.02042654397710109, 0.014660392247750256, 0.016518014548484033, 0.014863197534687685, 0.01684738205119676, 0.017044151199656455, 0.014689660767294613, 0.06035009597578282, 0.02204009106673602, 0.027870103153641666, 0.014290021217660091, 0.02435579058904672, 0.02187334946836641, 0.02584129022600506, 0.02219565137803589, 0.024094600067529507, 0.02568442889645552, 0.053685076159463815, 0.028425099930557994, 0.0707370336598421, 0.021237436925705407, 0.04937366764103229, 0.020149557231952022, 0.016149150632817008, 0.04078847273259341, 0.0321395925002818, 0.024832140442296067, 0.041754991577834494, 0.025410296558472108, 0.038496373071330366, 0.05926732604922612, 0.013996752980011882, 0.01929817137565074, 0.01580157059672665, 0.01656657263691245, 0.024854164171962942, 0.0760822418857413, 0.025581668035277373, 0.022400786738707934, 0.0294185285626632, 0.04900367112802031, 0.023435816142863098, 0.10224202266831012, 0.5180728293073614, 0.024187011062364986, 0.039090502013752026, 0.016644417816711134, 0.04860065784654904, 0.06136251064326592, 0.021919849498402588, 0.027543164808018748, 0.03131220540777857, 0.02571154117932234]\n"
       ]
      }
     ],
     "prompt_number": 121
    },
    {
     "cell_type": "code",
     "collapsed": false,
     "input": [
      "print(\"The fathest neighbors are:\")\n",
      "print(np_array[:,0][indexArray.index(max(indexArray))])\n",
      "print(\"And\")\n",
      "print(np_array[:,0][indexArray.index(min(indexArray))])"
     ],
     "language": "python",
     "metadata": {},
     "outputs": [
      {
       "output_type": "stream",
       "stream": "stdout",
       "text": [
        "The fathest neighbors are:\n",
        "China\n",
        "And\n",
        "Gambia, The\n"
       ]
      }
     ],
     "prompt_number": 123
    },
    {
     "cell_type": "code",
     "collapsed": false,
     "input": [
      "sortedIndexArray = list(indexArray)\n",
      "sortedIndexArray.sort()\n",
      "intervals = []\n",
      "for i in range(0, size(sortedIndexArray)-1):\n",
      "    print(np_array[:,0][indexArray.index(sortedIndexArray[i])])\n",
      "    intervals.append(abs(sortedIndexArray[i]-sortedIndexArray[i+1]))\n",
      "print(np_array[:,0][indexArray.index(sortedIndexArray[i+1])])\n",
      "countryOneIndex = sortedIndexArray[intervals.index(min(intervals))]\n",
      "countryTwoIndex = sortedIndexArray[intervals.index(min(intervals))+1]\n",
      "print(\"\\n\\n\\n\")\n",
      "print(\"The closest neighbors are:\")\n",
      "print(np_array[:,0][indexArray.index(countryOneIndex)])\n",
      "print(\"And\")\n",
      "print(np_array[:,0][indexArray.index(countryTwoIndex)])"
     ],
     "language": "python",
     "metadata": {},
     "outputs": [
      {
       "output_type": "stream",
       "stream": "stdout",
       "text": [
        "Gambia, The\n",
        "Comoros\n",
        "Bhutan\n",
        "Guinea-Bissau\n",
        "Timor-Leste\n",
        "Brunei\n",
        "Seychelles\n",
        "Saint Kitts and Nevis\n",
        "Sao Tome and Principe\n",
        "Saint Vincent and the Grenadines\n",
        "Equatorial Guinea\n",
        "Bahrain\n",
        "Cabo Verde\n",
        "Fiji\n",
        "Belize\n",
        "Monaco\n",
        "Dominica\n",
        "Grenada\n",
        "Tonga\n",
        "Mauritius\n",
        "Antigua and Barbuda\n",
        "Djibouti\n",
        "Swaziland\n",
        "Saint Lucia\n",
        "Trinidad and Tobago\n",
        "Vanuatu\n",
        "Qatar\n",
        "Samoa\n",
        "Benin\n",
        "Nauru\n",
        "San Marino\n",
        "Liechtenstein\n",
        "Jamaica\n",
        "Barbados\n",
        "Andorra\n",
        "Kosovo\n",
        "Kuwait\n",
        "Malta\n",
        "Armenia\n",
        "Maldives\n",
        "Haiti\n",
        "Burundi\n",
        "Kiribati\n",
        "Luxembourg\n",
        "Cyprus\n",
        "El Salvador\n",
        "Eritrea\n",
        "Lebanon\n",
        "Macedonia\n",
        "Togo\n",
        "Albania\n",
        "Montenegro\n",
        "Suriname\n",
        "Palau\n",
        "Rwanda\n",
        "Lesotho\n",
        "Gabon\n",
        "Sri Lanka\n",
        "Latvia\n",
        "Bahamas, The\n",
        "Dominican Republic\n",
        "Singapore\n",
        "Western Sahara\n",
        "Burkina Faso\n",
        "Senegal\n",
        "Slovenia\n",
        "Lithuania\n",
        "Cambodia\n",
        "Tuvalu\n",
        "Oman\n",
        "Guyana\n",
        "Guinea\n",
        "Nicaragua\n",
        "Guatemala\n",
        "Estonia\n",
        "Marshall Islands\n",
        "United Arab Emirates\n",
        "Honduras\n",
        "Jordan\n",
        "Bosnia and Herzegovina\n",
        "Laos\n",
        "Azerbaijan\n",
        "Malawi\n",
        "Congo, Republic of the\n",
        "Panama\n",
        "Solomon Islands\n",
        "Uruguay\n",
        "Georgia\n",
        "Nepal\n",
        "Sierra Leone\n",
        "Moldova\n",
        "Papua New Guinea\n",
        "Ghana\n",
        "Costa Rica\n",
        "Syria\n",
        "Tunisia\n",
        "Tajikistan\n",
        "Bulgaria\n",
        "Turkmenistan\n",
        "Somalia\n",
        "Zimbabwe\n",
        "Botswana\n",
        "Madagascar\n",
        "Slovakia\n",
        "Iceland\n",
        "Central African Republic\n",
        "Cote d'Ivoire\n",
        "Ireland\n",
        "Israel\n",
        "Liberia\n",
        "Yemen\n",
        "Kyrgyzstan\n",
        "Korea, North\n",
        "Belarus\n",
        "Serbia\n",
        "Micronesia, Federated States of\n",
        "South Sudan\n",
        "Cuba\n",
        "Hungary\n",
        "Namibia\n",
        "Uganda\n",
        "Cameroon\n",
        "Czech Republic\n",
        "Mauritania\n",
        "Ecuador\n",
        "Zambia\n",
        "Portugal\n",
        "Paraguay\n",
        "Croatia\n",
        "Chad\n",
        "Switzerland\n",
        "Niger\n",
        "Finland\n",
        "Belgium\n",
        "Austria\n",
        "Romania\n",
        "Afghanistan\n",
        "Iraq\n",
        "Kenya\n",
        "Mozambique\n",
        "Denmark\n",
        "Angola\n",
        "Mali\n",
        "Morocco\n",
        "Bolivia\n",
        "Tanzania\n",
        "Uzbekistan\n",
        "Libya\n",
        "Burma\n",
        "Sweden\n",
        "Taiwan\n",
        "Mongolia\n",
        "Netherlands\n",
        "Ethiopia\n",
        "New Zealand\n",
        "Malaysia\n",
        "Greece\n",
        "Bangladesh\n",
        "Venezuela\n",
        "Ukraine\n",
        "Sudan\n",
        "Poland\n",
        "Peru\n",
        "South Africa\n",
        "Algeria\n",
        "Chile\n",
        "Egypt\n",
        "Thailand\n",
        "Saudi Arabia\n",
        "Vietnam\n",
        "Congo, Democratic Republic of the\n",
        "Norway\n",
        "Colombia\n",
        "Kazakhstan\n",
        "Iran\n",
        "Korea, South\n",
        "Spain\n",
        "Pakistan\n",
        "Turkey\n",
        "Italy\n",
        "Nigeria\n",
        "Philippines\n",
        "Argentina\n",
        "Greenland\n",
        "France\n",
        "United Kingdom\n",
        "Mexico\n",
        "Germany\n",
        "Australia\n",
        "Indonesia\n",
        "Japan\n",
        "Brazil\n",
        "Russia\n",
        "India\n",
        "Canada\n",
        "United States\n",
        "China\n",
        "\n",
        "\n",
        "\n",
        "\n",
        "The closest neighbors are:\n",
        "Congo, Republic of the\n",
        "And\n",
        "Panama\n"
       ]
      }
     ],
     "prompt_number": 130
    },
    {
     "cell_type": "markdown",
     "metadata": {},
     "source": [
      "###Conclusion:\n",
      "\n",
      "By looking at the ranking of the countries using my index, what I did right was, on the head of the list (bottom on the table), these countries either have large area, big population, high GDP, all in all ,these countries have at lease one aspect that makes it stand out of all other countries. While on the tail of the list (top of the table), these countries are most ones that I've never heard of, meaning that they have least influence on the world. Both the result, farthest and closest neighbors make perfect sense.\n",
      "\n",
      "One interesting pair could be France and Greenland. I don't think these two countries have much in common, the reason why they stay together is probably one have advantage in natural aspects while the other is stronger in social aspects.\n",
      "\n",
      "One example that my model does something wrong is that Monaco, the country that I just identified as best social-welfare country, falls to the end part of the list, which pacific lsland countries, caribbean countries, and African countries. The only thing that Monaco has in common with those countries might be the area. This is where my ranking system needs refine."
     ]
    },
    {
     "cell_type": "code",
     "collapsed": false,
     "input": [],
     "language": "python",
     "metadata": {},
     "outputs": []
    }
   ],
   "metadata": {}
  }
 ]
}