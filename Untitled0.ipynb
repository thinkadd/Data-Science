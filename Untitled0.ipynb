{
 "metadata": {
  "name": "",
  "signature": "sha256:ac747a71cde9ccc2356ed033850d599e0af41ddd71825b0ffaa20acc23110b4e"
 },
 "nbformat": 3,
 "nbformat_minor": 0,
 "worksheets": [
  {
   "cells": [
    {
     "cell_type": "code",
     "collapsed": false,
     "input": [
      "from IPython.lib import passwd\n",
      "passwd(\"az113900\")"
     ],
     "language": "python",
     "metadata": {},
     "outputs": [
      {
       "metadata": {},
       "output_type": "pyout",
       "prompt_number": 1,
       "text": [
        "'sha1:43ed1ce6845d:d0da46527d6b6a4574bd78b5f308d8c69736e824'"
       ]
      }
     ],
     "prompt_number": 1
    },
    {
     "cell_type": "code",
     "collapsed": false,
     "input": [],
     "language": "python",
     "metadata": {},
     "outputs": []
    }
   ],
   "metadata": {}
  }
 ]
}